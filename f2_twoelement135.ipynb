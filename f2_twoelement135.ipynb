{
 "cells": [
  {
   "cell_type": "code",
   "execution_count": 1,
   "metadata": {},
   "outputs": [],
   "source": [
    "# figure 2"
   ]
  },
  {
   "cell_type": "code",
   "execution_count": 2,
   "metadata": {},
   "outputs": [],
   "source": [
    "import numpy as np\n",
    "from abcd import *"
   ]
  },
  {
   "cell_type": "code",
   "execution_count": 3,
   "metadata": {},
   "outputs": [
    {
     "name": "stdout",
     "output_type": "stream",
     "text": [
      "i =\n",
      " [[ 1.+0.j]\n",
      " [-0.-1.j]]\n",
      "z =\n",
      " [[21.4-15.j]\n",
      " [51.4+15.j]]\n"
     ]
    }
   ],
   "source": [
    "# 2-element array\n",
    "z11 = 36.4\n",
    "z12 = 15-15j\n",
    "i = np.matrix([1, -1j]).T\n",
    "e = np.matrix([[z11, z12], [z12, z11]]) * i\n",
    "print('i =\\n', i)\n",
    "print('z =\\n', e / i)"
   ]
  },
  {
   "cell_type": "code",
   "execution_count": 4,
   "metadata": {
    "scrolled": false
   },
   "outputs": [
    {
     "name": "stdout",
     "output_type": "stream",
     "text": [
      "p(1) = 21.4000\n",
      "z(1) = 21.4000-15.0000j\n",
      "i(1) = 1.0000 / 0.0000\n",
      "e(1) = 26.1335 / -35.0279\n",
      "\n",
      "p(2) = 51.4000\n",
      "z(2) = 51.4000+15.0000j\n",
      "i(2) = 1.0000 / -90.0000\n",
      "e(2) = 53.5440 / -73.7312\n",
      "\n",
      "feed power = 72.8\n",
      "feed voltage = 60.3324\n",
      "line1 R = 170.0935\n",
      "line2 R = 70.8171\n"
     ]
    }
   ],
   "source": [
    "# at element\n",
    "line1 = vec(e[0], i[0])\n",
    "status(line1, 1)\n",
    "line2 = vec(e[1], i[1])\n",
    "status(line2, 2)\n",
    "total = power(line1) + power(line2)\n",
    "print('feed power =', total)\n",
    "feed_voltage = np.sqrt(total * 50)\n",
    "print('feed voltage = %.4f' % feed_voltage)\n",
    "line1_r = feed_voltage**2 / power(line1)\n",
    "line2_r = feed_voltage**2 / power(line2)\n",
    "print('line1 R = %.4f' % line1_r)\n",
    "print('line2 R = %.4f' % line2_r)"
   ]
  },
  {
   "cell_type": "code",
   "execution_count": 5,
   "metadata": {
    "scrolled": true
   },
   "outputs": [
    {
     "name": "stdout",
     "output_type": "stream",
     "text": [
      "p(1) = 21.4000\n",
      "z(1) = 63.5785-53.9835j\n",
      "i(1) = 0.5802 / 148.5572\n",
      "e(1) = 48.3888 / 108.2231\n",
      "\n",
      "p(2) = 51.4000\n",
      "z(2) = 37.4256+2.6719j\n",
      "i(2) = 1.1719 / 51.6641\n",
      "e(2) = 43.9714 / 55.7477\n",
      "\n"
     ]
    }
   ],
   "source": [
    "# 135 degree coax line\n",
    "line1 = tline(135) * line1\n",
    "status(line1, 1)\n",
    "line2 = tline(135) * line2\n",
    "status(line2, 2)"
   ]
  },
  {
   "cell_type": "code",
   "execution_count": 6,
   "metadata": {
    "scrolled": true
   },
   "outputs": [
    {
     "name": "stdout",
     "output_type": "stream",
     "text": [
      "['5.504uH', '1.479nF']\n",
      "p(1) = 21.4000\n",
      "z(1) = 170.0935+0.0000j\n",
      "i(1) = 0.3547 / 96.2465\n",
      "e(1) = 60.3324 / 96.2465\n",
      "\n",
      "['558.6pF', '1.369uH']\n",
      "p(2) = 51.4000\n",
      "z(2) = 70.8171+0.0000j\n",
      "i(2) = 0.8519 / 95.0313\n",
      "e(2) = 60.3324 / 95.0313\n",
      "\n"
     ]
    }
   ],
   "source": [
    "# half pi\n",
    "z = impedance(line1)\n",
    "x = to_halfpi(line1_r, z)\n",
    "print(component(x, 3.8e6))\n",
    "line1 = halfpi(*x) * line1\n",
    "status(line1, 1)\n",
    "\n",
    "z = impedance(line2)\n",
    "x = to_halfpi(line2_r, z, solution=1)\n",
    "print(component(x, 3.8e6))\n",
    "line2 = halfpi(*x) * line2\n",
    "status(line2, 2)"
   ]
  },
  {
   "cell_type": "code",
   "execution_count": 7,
   "metadata": {},
   "outputs": [
    {
     "name": "stdout",
     "output_type": "stream",
     "text": [
      "lag21 = 1.2152\n",
      "['6.272pF', '62.9nH', '6.272pF']\n",
      "p(1) = 51.4000\n",
      "z(1) = 70.8171-0.0000j\n",
      "i(1) = 0.8519 / 96.2465\n",
      "e(1) = 60.3324 / 96.2465\n",
      "\n",
      "lag21 = 0.0000\n"
     ]
    }
   ],
   "source": [
    "# pi circuit\n",
    "lag = ephase(line1) - ephase(line2)\n",
    "print('lag21 = {:.4f}'.format(lag))\n",
    "x = to_fullpi(lag, line2_r)\n",
    "print(component(x, 3.8e6))\n",
    "line2 = fullpi(*x) * line2\n",
    "status(line2, \"1\")\n",
    "lag = ephase(line1) - ephase(line2)\n",
    "print('lag21 = {:.4f}'.format(lag))"
   ]
  },
  {
   "cell_type": "code",
   "execution_count": 8,
   "metadata": {},
   "outputs": [
    {
     "name": "stdout",
     "output_type": "stream",
     "text": [
      "e(1) = 60.3324 / 96.2465\n",
      "e(2) = 60.3324 / 96.2465\n",
      "Z line 1 = 170.0935+0.0000j\n",
      "Z line 2 = 70.8171-0.0000j\n",
      "in parallel z = 50.0000-0.0000j\n"
     ]
    }
   ],
   "source": [
    "print('e(1) = {}'.format(polar(line1[0])))\n",
    "print('e(2) = {}'.format(polar(line2[0])))\n",
    "print('Z line 1 = {:.4f}'.format(impedance(line1)))\n",
    "print('Z line 2 = {:.4f}'.format(impedance(line2)))\n",
    "print('in parallel z = {:.4f}'.format(impedance(line1, line2)))"
   ]
  },
  {
   "cell_type": "code",
   "execution_count": 9,
   "metadata": {},
   "outputs": [
    {
     "name": "stdout",
     "output_type": "stream",
     "text": [
      "feed power = 72.8000\n",
      "feed voltage = 60.3324\n",
      "p(0) = 72.8000\n",
      "z(0) = 50.0000-0.0000j\n",
      "i(0) = 1.2066 / 96.2465\n",
      "e(0) = 60.3324 / 96.2465\n",
      "\n"
     ]
    }
   ],
   "source": [
    "# put all lines in parallel\n",
    "print('feed power = %.4f' % total)\n",
    "print('feed voltage = %.4f' % feed_voltage)\n",
    "line = vec(line1[0], line1[1]+line2[1])\n",
    "status(line, 0)"
   ]
  }
 ],
 "metadata": {
  "kernelspec": {
   "display_name": "Python 3",
   "language": "python",
   "name": "python3"
  },
  "language_info": {
   "codemirror_mode": {
    "name": "ipython",
    "version": 3
   },
   "file_extension": ".py",
   "mimetype": "text/x-python",
   "name": "python",
   "nbconvert_exporter": "python",
   "pygments_lexer": "ipython3",
   "version": "3.5.3"
  }
 },
 "nbformat": 4,
 "nbformat_minor": 2
}
