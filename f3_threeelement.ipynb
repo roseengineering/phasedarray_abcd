{
 "cells": [
  {
   "cell_type": "code",
   "execution_count": 1,
   "metadata": {},
   "outputs": [],
   "source": [
    "# figure 3"
   ]
  },
  {
   "cell_type": "code",
   "execution_count": 2,
   "metadata": {},
   "outputs": [],
   "source": [
    "import numpy as np\n",
    "from abcd import *"
   ]
  },
  {
   "cell_type": "code",
   "execution_count": 3,
   "metadata": {},
   "outputs": [
    {
     "name": "stdout",
     "output_type": "stream",
     "text": [
      "i =\n",
      " [[ 1.+0.j]\n",
      " [-0.-2.j]\n",
      " [-1.+0.j]]\n",
      "z =\n",
      " [[15.4-17.j]\n",
      " [36.4 +0.j]\n",
      " [75.4+43.j]]\n"
     ]
    }
   ],
   "source": [
    "# 3 element in line array\n",
    "z11 = 36.4\n",
    "z12 = 15-15j\n",
    "z13 = -9-13j\n",
    "i = np.matrix([1, -2j, -1]).T\n",
    "e = np.matrix([[z11, z12, z13], \n",
    "               [z12, z11, z12],\n",
    "               [z13, z12, z11]]) * i\n",
    "print('i =\\n', i)\n",
    "print('z =\\n', e / i)"
   ]
  },
  {
   "cell_type": "code",
   "execution_count": 4,
   "metadata": {
    "scrolled": false
   },
   "outputs": [
    {
     "name": "stdout",
     "output_type": "stream",
     "text": [
      "p(1) = 15.4000\n",
      "z(1) = 15.4000-17.0000j\n",
      "i(1) = 1.0000 / 0.0000\n",
      "e(1) = 22.9382 / -47.8271\n",
      "\n",
      "p(2) = 145.6000\n",
      "z(2) = 36.4000+0.0000j\n",
      "i(2) = 2.0000 / -90.0000\n",
      "e(2) = 72.8000 / -90.0000\n",
      "\n",
      "p(3) = 75.4000\n",
      "z(3) = 75.4000+43.0000j\n",
      "i(3) = 1.0000 / 180.0000\n",
      "e(3) = 86.7995 / -150.3042\n",
      "\n",
      "feed power = 236.4\n",
      "feed voltage = 108.7198\n",
      "line1 R = 767.5325\n",
      "line2 R = 81.1813\n",
      "line3 R = 156.7639\n"
     ]
    }
   ],
   "source": [
    "# at element\n",
    "line1 = vec(e[0], i[0])\n",
    "line2 = vec(e[1], i[1])\n",
    "line3 = vec(e[2], i[2])\n",
    "status(line1, 1)\n",
    "status(line2, 2)\n",
    "status(line3, 3)\n",
    "\n",
    "total = power(line1, line2, line3)\n",
    "print('feed power =', total)\n",
    "feed_voltage = np.sqrt(total * 50)\n",
    "print('feed voltage = %.4f' % feed_voltage)\n",
    "line1_r = feed_voltage**2 / power(line1)\n",
    "line2_r = feed_voltage**2 / power(line2)\n",
    "line3_r = feed_voltage**2 / power(line3)\n",
    "print('line1 R = %.4f' % line1_r)\n",
    "print('line2 R = %.4f' % line2_r)\n",
    "print('line3 R = %.4f' % line3_r)"
   ]
  },
  {
   "cell_type": "code",
   "execution_count": 5,
   "metadata": {
    "scrolled": true
   },
   "outputs": [
    {
     "name": "stdout",
     "output_type": "stream",
     "text": [
      "line1 Emax(rms) = 53.0621\n",
      "line2 Emax(rms) = 100.0000\n",
      "line3 Emax(rms) = 91.2546\n"
     ]
    }
   ],
   "source": [
    "print('line1 Emax(rms) = %.4f' % (emax(power(line1), impedance(line1))))\n",
    "print('line2 Emax(rms) = %.4f' % (emax(power(line2), impedance(line2))))\n",
    "print('line3 Emax(rms) = %.4f' % (emax(power(line3), impedance(line3))))"
   ]
  },
  {
   "cell_type": "code",
   "execution_count": 6,
   "metadata": {
    "scrolled": true
   },
   "outputs": [
    {
     "name": "stdout",
     "output_type": "stream",
     "text": [
      "p(1) = 15.4000\n",
      "z(1) = 47.3827-67.5704j\n",
      "i(1) = 0.5701 / 159.2845\n",
      "e(1) = 47.0492 / 104.3239\n",
      "\n",
      "p(2) = 145.6000\n",
      "z(2) = 36.9772+4.2777j\n",
      "i(2) = 1.9843 / -82.3157\n",
      "e(2) = 73.8643 / -75.7167\n",
      "\n",
      "p(3) = 75.4000\n",
      "z(3) = 27.7774+20.6157j\n",
      "i(3) = 1.6476 / -36.8185\n",
      "e(3) = 56.9918 / -0.2366\n",
      "\n"
     ]
    }
   ],
   "source": [
    "# 135 degree coax line\n",
    "line1 = tline(139.1) * line1\n",
    "line2 = tline(10.5) * line2\n",
    "line3 = tline(139.1) * line3\n",
    "status(line1, 1)\n",
    "status(line2, 2)\n",
    "status(line3, 3)"
   ]
  },
  {
   "cell_type": "code",
   "execution_count": 7,
   "metadata": {},
   "outputs": [
    {
     "name": "stdout",
     "output_type": "stream",
     "text": [
      "['4.222uH']\n",
      "p(1) = 15.4000\n",
      "z(1) = 143.7420-0.0000j\n",
      "i(1) = 0.3273 / 104.3239\n",
      "e(1) = 47.0492 / 104.3239\n",
      "\n"
     ]
    }
   ],
   "source": [
    "# shunt\n",
    "z = impedance(line1)\n",
    "x = to_shunt(z)\n",
    "print(component(x, 3.8e6))\n",
    "line1 = shunt(*x) * line1\n",
    "status(line1, 1)"
   ]
  },
  {
   "cell_type": "code",
   "execution_count": 8,
   "metadata": {},
   "outputs": [
    {
     "name": "stdout",
     "output_type": "stream",
     "text": [
      "['15.43uH', '139.9pF']\n",
      "p(1) = 15.4000\n",
      "z(1) = 767.5325-0.0000j\n",
      "i(1) = 0.1416 / 39.9665\n",
      "e(1) = 108.7198 / 39.9665\n",
      "\n",
      "['564.1pF', '1.514uH']\n",
      "p(2) = 145.6000\n",
      "z(2) = 81.1813+0.0000j\n",
      "i(2) = 1.3392 / -34.7620\n",
      "e(2) = 108.7198 / -34.7620\n",
      "\n",
      "['575.7pF', '1.644uH']\n",
      "p(3) = 75.4000\n",
      "z(3) = 156.7639-0.0000j\n",
      "i(3) = 0.6935 / 28.2874\n",
      "e(3) = 108.7198 / 28.2874\n",
      "\n",
      "dr1 = 0.0000+0.0000j\n",
      "dr2 = 0.0000-0.0000j\n",
      "dr3 = 0.0000+0.0000j\n"
     ]
    }
   ],
   "source": [
    "### half pi\n",
    "z = impedance(line1)\n",
    "x = to_halfpi(line1_r, z)[0]\n",
    "print(component(x, 3.8e6))\n",
    "line1 = halfpi(*x) * line1\n",
    "status(line1, 1)\n",
    "\n",
    "z = impedance(line2)\n",
    "x = to_halfpi(line2_r, z)[1]\n",
    "print(component(x, 3.8e6))\n",
    "line2 = halfpi(*x) * line2\n",
    "status(line2, 2)\n",
    "\n",
    "z = impedance(line3)\n",
    "x = to_halfpi(line3_r, z)[1]\n",
    "print(component(x, 3.8e6))\n",
    "line3 = halfpi(*x) * line3\n",
    "status(line3, 3)\n",
    "\n",
    "print('dr1 = {:.4f}'.format(line1_r - impedance(line1)))\n",
    "print('dr2 = {:.4f}'.format(line2_r - impedance(line2)))\n",
    "print('dr3 = {:.4f}'.format(line3_r - impedance(line3)))"
   ]
  },
  {
   "cell_type": "code",
   "execution_count": 9,
   "metadata": {
    "scrolled": true
   },
   "outputs": [
    {
     "name": "stdout",
     "output_type": "stream",
     "text": [
      "lag = 74.7285\n",
      "['393.9pF', '3.28uH', '393.9pF']\n",
      "p(2) = 145.6000\n",
      "z(2) = 81.1813-0.0000j\n",
      "i(2) = 1.3392 / 39.9665\n",
      "e(2) = 108.7198 / 39.9665\n",
      "\n",
      "lag = 11.6791\n",
      "['27.32pF', '1.329uH', '27.32pF']\n",
      "p(3) = 75.4000\n",
      "z(3) = 156.7639+0.0000j\n",
      "i(3) = 0.6935 / 39.9665\n",
      "e(3) = 108.7198 / 39.9665\n",
      "\n"
     ]
    }
   ],
   "source": [
    "# pi circuit\n",
    "lag = ephase(line1) - ephase(line2)\n",
    "print('lag = {:.4f}'.format(lag))\n",
    "x = to_fullpi(lag, line2_r)\n",
    "print(component(x, 3.8e6))\n",
    "line2 = fullpi(*x) * line2\n",
    "status(line2, 2)\n",
    "\n",
    "lag = ephase(line1) - ephase(line3)\n",
    "print('lag = {:.4f}'.format(lag))\n",
    "x = to_fullpi(lag, line3_r)\n",
    "print(component(x, 3.8e6))\n",
    "line3 = fullpi(*x) * line3\n",
    "status(line3, 3)"
   ]
  },
  {
   "cell_type": "code",
   "execution_count": 10,
   "metadata": {},
   "outputs": [
    {
     "name": "stdout",
     "output_type": "stream",
     "text": [
      "e(1) = 108.7198 / 39.9665\n",
      "e(2) = 108.7198 / 39.9665\n",
      "e(3) = 108.7198 / 39.9665\n",
      "Z line 1 = 767.5325-0.0000j\n",
      "Z line 2 = 81.1813-0.0000j\n",
      "Z line 3 = 156.7639+0.0000j\n",
      "in parallel = 50.0000-0.0000j\n"
     ]
    }
   ],
   "source": [
    "print('e(1) = {}'.format(polar(line1[0])))\n",
    "print('e(2) = {}'.format(polar(line2[0])))\n",
    "print('e(3) = {}'.format(polar(line3[0])))\n",
    "print('Z line 1 = {:.4f}'.format(impedance(line1)))\n",
    "print('Z line 2 = {:.4f}'.format(impedance(line2)))\n",
    "print('Z line 3 = {:.4f}'.format(impedance(line3)))\n",
    "print('in parallel = {:.4f}'.format(impedance(line1, line2, line3)))"
   ]
  },
  {
   "cell_type": "code",
   "execution_count": 11,
   "metadata": {},
   "outputs": [
    {
     "name": "stdout",
     "output_type": "stream",
     "text": [
      "feed power = 236.4000\n",
      "feed voltage = 108.7198\n",
      "p(0) = 236.4000\n",
      "z(0) = 50.0000-0.0000j\n",
      "i(0) = 2.1744 / 39.9665\n",
      "e(0) = 108.7198 / 39.9665\n",
      "\n"
     ]
    }
   ],
   "source": [
    "# put all lines in parallel\n",
    "print('feed power = %.4f' % total)\n",
    "print('feed voltage = %.4f' % feed_voltage)\n",
    "line = vec(line1[0], line1[1]+line2[1]+line3[1])\n",
    "status(line, 0)"
   ]
  }
 ],
 "metadata": {
  "kernelspec": {
   "display_name": "Python 3",
   "language": "python",
   "name": "python3"
  },
  "language_info": {
   "codemirror_mode": {
    "name": "ipython",
    "version": 3
   },
   "file_extension": ".py",
   "mimetype": "text/x-python",
   "name": "python",
   "nbconvert_exporter": "python",
   "pygments_lexer": "ipython3",
   "version": "3.5.3"
  }
 },
 "nbformat": 4,
 "nbformat_minor": 2
}
