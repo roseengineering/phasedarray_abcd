{
 "cells": [
  {
   "cell_type": "code",
   "execution_count": 1,
   "metadata": {},
   "outputs": [],
   "source": [
    "# figure 4"
   ]
  },
  {
   "cell_type": "code",
   "execution_count": 2,
   "metadata": {},
   "outputs": [],
   "source": [
    "import numpy as np\n",
    "from abcd import *"
   ]
  },
  {
   "cell_type": "code",
   "execution_count": 3,
   "metadata": {},
   "outputs": [
    {
     "name": "stdout",
     "output_type": "stream",
     "text": [
      "i =\n",
      " [[ 1.+0.j ]\n",
      " [-0.-0.5j]\n",
      " [-0.-0.5j]]\n",
      "z =\n",
      " [[20.4-10.j]\n",
      " [78.4 +4.j]\n",
      " [78.4 +4.j]]\n"
     ]
    }
   ],
   "source": [
    "# 3 element triangular array\n",
    "z11 = 36.4\n",
    "z12 = 10-16j\n",
    "z13 = z12\n",
    "z23 = z12\n",
    "i = np.matrix([1, -.5j, -.5j]).T\n",
    "e = np.matrix([\n",
    "    [z11, z12, z13],\n",
    "    [z23, z11, z23],\n",
    "    [z13, z12, z11]]) * i\n",
    "print('i =\\n', i)\n",
    "print('z =\\n', e / i)"
   ]
  },
  {
   "cell_type": "code",
   "execution_count": 4,
   "metadata": {
    "scrolled": false
   },
   "outputs": [
    {
     "name": "stdout",
     "output_type": "stream",
     "text": [
      "p(1) = 20.4000\n",
      "z(1) = 20.4000-10.0000j\n",
      "i(1) = 1.0000 / 0.0000\n",
      "e(1) = 22.7192 / -26.1139\n",
      "\n",
      "p(2) = 19.6000\n",
      "z(2) = 78.4000+4.0000j\n",
      "i(2) = 0.5000 / -90.0000\n",
      "e(2) = 39.2510 / -87.0793\n",
      "\n",
      "p(3) = 19.6000\n",
      "z(3) = 78.4000+4.0000j\n",
      "i(3) = 0.5000 / -90.0000\n",
      "e(3) = 39.2510 / -87.0793\n",
      "\n",
      "feed power = 59.599999999999994\n",
      "feed voltage = 54.5894\n",
      "line1 R = 146.0784\n",
      "line2 R = 152.0408\n",
      "line3 R = 152.0408\n"
     ]
    }
   ],
   "source": [
    "# at element\n",
    "line1 = vec(e[0], i[0])\n",
    "line2 = vec(e[1], i[1])\n",
    "line3 = vec(e[2], i[2])\n",
    "status(line1, 1)\n",
    "status(line2, 2)\n",
    "status(line3, 3)\n",
    "\n",
    "total = power(line1, line2, line3)\n",
    "print('feed power =', total)\n",
    "feed_voltage = np.sqrt(total * 50)\n",
    "print('feed voltage = %.4f' % feed_voltage)\n",
    "line1_r = feed_voltage**2 / power(line1)\n",
    "line2_r = feed_voltage**2 / power(line2)\n",
    "line3_r = feed_voltage**2 / power(line3)\n",
    "print('line1 R = %.4f' % line1_r)\n",
    "print('line2 R = %.4f' % line2_r)\n",
    "print('line3 R = %.4f' % line3_r)"
   ]
  },
  {
   "cell_type": "code",
   "execution_count": 5,
   "metadata": {},
   "outputs": [
    {
     "name": "stdout",
     "output_type": "stream",
     "text": [
      "line1 Emax(rms) = 51.1751\n",
      "line2 Emax(rms) = 39.2856\n",
      "line3 Emax(rms) = 39.2856\n"
     ]
    }
   ],
   "source": [
    "print('line1 Emax(rms) = %.4f' % emax(line1))\n",
    "print('line2 Emax(rms) = %.4f' % emax(line2))\n",
    "print('line3 Emax(rms) = %.4f' % emax(line3))"
   ]
  },
  {
   "cell_type": "code",
   "execution_count": 6,
   "metadata": {
    "scrolled": true
   },
   "outputs": [
    {
     "name": "stdout",
     "output_type": "stream",
     "text": [
      "p(1) = 20.4000\n",
      "z(1) = 98.8066+48.4346j\n",
      "i(1) = 0.4544 / 63.8861\n",
      "e(1) = 50.0000 / 90.0000\n",
      "\n",
      "p(2) = 19.6000\n",
      "z(2) = 31.8050-1.6227j\n",
      "i(2) = 0.7850 / 2.9207\n",
      "e(2) = 25.0000 / -0.0000\n",
      "\n",
      "p(3) = 19.6000\n",
      "z(3) = 31.8050-1.6227j\n",
      "i(3) = 0.7850 / 2.9207\n",
      "e(3) = 25.0000 / -0.0000\n",
      "\n"
     ]
    }
   ],
   "source": [
    "# 90 degree coax line\n",
    "line1 = tline(90) * line1\n",
    "line2 = tline(90) * line2\n",
    "line3 = tline(90) * line3\n",
    "status(line1, 1)\n",
    "status(line2, 2)\n",
    "status(line3, 3)\n",
    "None"
   ]
  },
  {
   "cell_type": "code",
   "execution_count": 7,
   "metadata": {},
   "outputs": [
    {
     "name": "stdout",
     "output_type": "stream",
     "text": [
      "e(2) = 25.0000 / -0.0000\n",
      "e(3) = 25.0000 / -0.0000\n",
      "lag = 1.0000 / 0.0000\n",
      "new line2 R = 76.0204\n",
      "p(2) = 39.2000\n",
      "z(2) = 15.9025-0.8114j\n",
      "i(2) = 1.5700 / 2.9207\n",
      "e(2) = 25.0000 / -0.0000\n",
      "\n"
     ]
    }
   ],
   "source": [
    "# parallel line 2 and 3\n",
    "print('e(2) = {}'.format(polar(line2[0])))\n",
    "print('e(3) = {}'.format(polar(line3[0])))\n",
    "print('lag =', polar(line2[0] / line3[0]))\n",
    "line2[1] += line3[1]\n",
    "line2_r /= 2\n",
    "print('new line2 R = %.4f' % line2_r)\n",
    "status(line2, 2)\n",
    "None"
   ]
  },
  {
   "cell_type": "code",
   "execution_count": 8,
   "metadata": {},
   "outputs": [
    {
     "name": "stdout",
     "output_type": "stream",
     "text": [
      "['8.845uH', '358.7pF']\n",
      "p(1) = 20.4000\n",
      "z(1) = 146.0784-0.0000j\n",
      "i(1) = 0.3737 / 29.2151\n",
      "e(1) = 54.5894 / 29.2151\n",
      "\n",
      "['1.071nF', '1.329uH']\n",
      "p(2) = 39.2000\n",
      "z(2) = 76.0204+0.0000j\n",
      "i(2) = 0.7181 / 65.7032\n",
      "e(2) = 54.5894 / 65.7032\n",
      "\n",
      "dr1 = 0.0000+0.0000j\n",
      "dr2 = 0.0000-0.0000j\n"
     ]
    }
   ],
   "source": [
    "# half pi\n",
    "z = impedance(line1)\n",
    "x = to_halfpi(line1_r, z)[0]\n",
    "print(component(x, 3.8e6))\n",
    "line1 = halfpi(*x) * line1\n",
    "status(line1, 1)\n",
    "\n",
    "z = impedance(line2)\n",
    "x = to_halfpi(line2_r, z)[1]\n",
    "print(component(x, 3.8e6))\n",
    "line2 = halfpi(*x) * line2\n",
    "status(line2, 2)\n",
    "\n",
    "print('dr1 = {:.4f}'.format(line1_r - impedance(line1)))\n",
    "print('dr2 = {:.4f}'.format(line2_r - impedance(line2)))"
   ]
  },
  {
   "cell_type": "code",
   "execution_count": 9,
   "metadata": {
    "scrolled": true
   },
   "outputs": [
    {
     "name": "stdout",
     "output_type": "stream",
     "text": [
      "lag = -36.48816022369282\n",
      "lag = 1.0000 / -36.4882\n",
      "['1.671nF', '5.354uH', '1.671nF']\n",
      "p(2) = 39.2000\n",
      "z(2) = 76.0204-0.0000j\n",
      "i(2) = 0.7181 / 29.2151\n",
      "e(2) = 54.5894 / 29.2151\n",
      "\n"
     ]
    }
   ],
   "source": [
    "# tee circuits\n",
    "lag = ephase(line1) - ephase(line2)\n",
    "print('lag =', lag)\n",
    "lag = complex(line1[0] / line2[0])\n",
    "print('lag =', polar(lag))\n",
    "x = to_fulltee(np.angle(lag, deg=True), impedance(line2).real)\n",
    "print(component(x, 3.8e6))\n",
    "line2 = fulltee(*x) * line2\n",
    "status(line2, 2)\n",
    "None"
   ]
  },
  {
   "cell_type": "code",
   "execution_count": 10,
   "metadata": {},
   "outputs": [
    {
     "name": "stdout",
     "output_type": "stream",
     "text": [
      "e(1) = 54.5894 / 29.2151\n",
      "e(2) = 54.5894 / 29.2151\n",
      "lag12 = 1.0000 / -0.0000\n",
      "line1 z = 146.0784-0.0000j\n",
      "line2 z = 76.0204-0.0000j\n",
      "in parallel z = 50.0000-0.0000j\n"
     ]
    }
   ],
   "source": [
    "print('e(1) = {}'.format(polar(line1[0])))\n",
    "print('e(2) = {}'.format(polar(line2[0])))\n",
    "print('lag12 =', polar(line1[0] / line2[0]))\n",
    "print('line1 z = {:.4f}'.format(impedance(line1)))\n",
    "print('line2 z = {:.4f}'.format(impedance(line2)))\n",
    "print('in parallel z = {:.4f}'.format(impedance(line1, line2)))"
   ]
  },
  {
   "cell_type": "code",
   "execution_count": 11,
   "metadata": {},
   "outputs": [
    {
     "name": "stdout",
     "output_type": "stream",
     "text": [
      "feed power = 59.6000\n",
      "feed voltage = 54.5894\n",
      "p(0) = 59.6000\n",
      "z(0) = 50.0000-0.0000j\n",
      "i(0) = 1.0918 / 29.2151\n",
      "e(0) = 54.5894 / 29.2151\n",
      "\n"
     ]
    }
   ],
   "source": [
    "# put all lines in parallel\n",
    "print('feed power = %.4f' % total)\n",
    "print('feed voltage = %.4f' % feed_voltage)\n",
    "line = vec(line1[0], line1[1]+line2[1])\n",
    "status(line, 0)\n",
    "None"
   ]
  }
 ],
 "metadata": {
  "kernelspec": {
   "display_name": "Python 3",
   "language": "python",
   "name": "python3"
  },
  "language_info": {
   "codemirror_mode": {
    "name": "ipython",
    "version": 3
   },
   "file_extension": ".py",
   "mimetype": "text/x-python",
   "name": "python",
   "nbconvert_exporter": "python",
   "pygments_lexer": "ipython3",
   "version": "3.7.3"
  }
 },
 "nbformat": 4,
 "nbformat_minor": 2
}
