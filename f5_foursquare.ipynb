{
 "cells": [
  {
   "cell_type": "code",
   "execution_count": 1,
   "metadata": {},
   "outputs": [],
   "source": [
    "# figure 5"
   ]
  },
  {
   "cell_type": "code",
   "execution_count": 2,
   "metadata": {},
   "outputs": [],
   "source": [
    "import numpy as np\n",
    "from abcd import *"
   ]
  },
  {
   "cell_type": "code",
   "execution_count": 3,
   "metadata": {},
   "outputs": [
    {
     "name": "stdout",
     "output_type": "stream",
     "text": [
      "i =\n",
      " [[ 1.+0.j]\n",
      " [-0.-1.j]\n",
      " [-0.-1.j]\n",
      " [-1.+0.j]]\n",
      "z =\n",
      " [[ 3.4-12.5j]\n",
      " [39.4-17.5j]\n",
      " [39.4-17.5j]\n",
      " [63.4+47.5j]]\n"
     ]
    }
   ],
   "source": [
    "# 4-square array (lambda/4 spacing)\n",
    "z11 = 36.4\n",
    "z12 = 15-15j\n",
    "z13 = z12\n",
    "z24 = z12\n",
    "z34 = z12\n",
    "z14 = 3-17.5j\n",
    "z23 = z14\n",
    "# 3.4-j12, 39.4-j17.5,39.4-17.5,63.4+47.5j\n",
    "\n",
    "i = np.matrix([1, -1j, -1j, -1]).T\n",
    "e = np.matrix([\n",
    "    [z11, z12, z13, z14],\n",
    "    [z12, z11, z23, z24],\n",
    "    [z13, z23, z11, z34],\n",
    "    [z14, z24, z34, z11]]) * i\n",
    "print('i =\\n', i)\n",
    "print('z =\\n', e / i)"
   ]
  },
  {
   "cell_type": "code",
   "execution_count": 4,
   "metadata": {
    "scrolled": false
   },
   "outputs": [
    {
     "name": "stdout",
     "output_type": "stream",
     "text": [
      "p(1) = 3.4000\n",
      "z(1) = 3.4000-12.5000j\n",
      "i(1) = 1.0000 / 0.0000\n",
      "e(1) = 12.9541 / -74.7837\n",
      "\n",
      "p(2) = 39.4000\n",
      "z(2) = 39.4000-17.5000j\n",
      "i(2) = 1.0000 / -90.0000\n",
      "e(2) = 43.1116 / -113.9490\n",
      "\n",
      "p(3) = 39.4000\n",
      "z(3) = 39.4000-17.5000j\n",
      "i(3) = 1.0000 / -90.0000\n",
      "e(3) = 43.1116 / -113.9490\n",
      "\n",
      "p(4) = 63.4000\n",
      "z(4) = 63.4000+47.5000j\n",
      "i(4) = 1.0000 / 180.0000\n",
      "e(4) = 79.2200 / -143.1590\n",
      "\n",
      "feed power = 145.59999999999997\n",
      "feed voltage = 85.3229\n",
      "line1 R = 2141.1765\n",
      "line2 R = 184.7716\n",
      "line3 R = 184.7716\n",
      "line4 R = 114.8265\n"
     ]
    }
   ],
   "source": [
    "# at element\n",
    "line1 = vec(e[0], i[0])\n",
    "line2 = vec(e[1], i[1])\n",
    "line3 = vec(e[2], i[2])\n",
    "line4 = vec(e[3], i[3])\n",
    "status(line1, 1)\n",
    "status(line2, 2)\n",
    "status(line3, 3)\n",
    "status(line4, 4)\n",
    "\n",
    "total = power(line1, line2, line3, line4)\n",
    "print('feed power =', total)\n",
    "feed_voltage = np.sqrt(total * 50)\n",
    "print('feed voltage = %.4f' % feed_voltage)\n",
    "line1_r = feed_voltage**2 / power(line1)\n",
    "line2_r = feed_voltage**2 / power(line2)\n",
    "line3_r = feed_voltage**2 / power(line3)\n",
    "line4_r = feed_voltage**2 / power(line4)\n",
    "print('line1 R = %.4f' % line1_r)\n",
    "print('line2 R = %.4f' % line2_r)\n",
    "print('line3 R = %.4f' % line3_r)\n",
    "print('line4 R = %.4f' % line4_r)"
   ]
  },
  {
   "cell_type": "code",
   "execution_count": 5,
   "metadata": {},
   "outputs": [
    {
     "name": "stdout",
     "output_type": "stream",
     "text": [
      "line1 Emax(rms) = 51.5454\n",
      "line2 Emax(rms) = 55.7783\n",
      "line3 Emax(rms) = 55.7783\n",
      "line4 Emax(rms) = 86.1501\n"
     ]
    }
   ],
   "source": [
    "print('line1 Emax(rms) = %.4f' % emax(line1))\n",
    "print('line2 Emax(rms) = %.4f' % emax(line2))\n",
    "print('line3 Emax(rms) = %.4f' % emax(line3))\n",
    "print('line4 Emax(rms) = %.4f' % emax(line4))"
   ]
  },
  {
   "cell_type": "code",
   "execution_count": 6,
   "metadata": {
    "scrolled": true
   },
   "outputs": [
    {
     "name": "stdout",
     "output_type": "stream",
     "text": [
      "p(1) = 3.4000\n",
      "z(1) = 348.7674+386.6803j\n",
      "i(1) = 0.0987 / 42.7069\n",
      "e(1) = 51.4144 / 90.6580\n",
      "\n",
      "p(2) = 39.4000\n",
      "z(2) = 62.3938+22.5678j\n",
      "i(2) = 0.7947 / -12.4291\n",
      "e(2) = 52.7250 / 7.4559\n",
      "\n",
      "p(3) = 39.4000\n",
      "z(3) = 62.3938+22.5678j\n",
      "i(3) = 0.7947 / -12.4291\n",
      "e(3) = 52.7250 / 7.4559\n",
      "\n",
      "p(4) = 63.4000\n",
      "z(4) = 22.7264-11.3709j\n",
      "i(4) = 1.6702 / -48.3863\n",
      "e(4) = 42.4447 / -74.9668\n",
      "\n"
     ]
    }
   ],
   "source": [
    "# 100 degree coax line\n",
    "line1 = tline(100) * line1\n",
    "line2 = tline(100) * line2\n",
    "line3 = tline(100) * line3\n",
    "line4 = tline(100) * line4\n",
    "status(line1, 1)\n",
    "status(line2, 2)\n",
    "status(line3, 3)\n",
    "status(line4, 4)"
   ]
  },
  {
   "cell_type": "code",
   "execution_count": 7,
   "metadata": {},
   "outputs": [
    {
     "name": "stdout",
     "output_type": "stream",
     "text": [
      "e(2) = 52.7250 / 7.4559\n",
      "e(3) = 52.7250 / 7.4559\n",
      "lag23 = 0.0\n",
      "lag23 = 1.0000 / -0.0000\n",
      "new line2 R = 92.3858\n",
      "p(2) = 78.8000\n",
      "z(2) = 31.1969+11.2839j\n",
      "i(2) = 1.5893 / -12.4291\n",
      "e(2) = 52.7250 / 7.4559\n",
      "\n"
     ]
    }
   ],
   "source": [
    "# parallel line 2 and 3\n",
    "print('e(2) = {}'.format(polar(line2[0])))\n",
    "print('e(3) = {}'.format(polar(line3[0])))\n",
    "print('lag23 =', ephase(line2) - ephase(line3))\n",
    "print('lag23 =', polar(line2[0] / line3[0]))\n",
    "line2[1] += line3[1]\n",
    "line2_r /= 2\n",
    "print('new line2 R = %.4f' % line2_r)\n",
    "status(line2, \"2\")"
   ]
  },
  {
   "cell_type": "code",
   "execution_count": 8,
   "metadata": {
    "scrolled": false
   },
   "outputs": [
    {
     "name": "stdout",
     "output_type": "stream",
     "text": [
      "['39.56uH', '35.57pF']\n",
      "p(1) = 3.4000\n",
      "z(1) = 2141.1765-0.0000j\n",
      "i(1) = 0.0398 / -23.4902\n",
      "e(1) = 85.3229 / -23.4902\n",
      "\n",
      "['634.9pF', '1.357uH']\n",
      "p(2) = 78.8000\n",
      "z(2) = 92.3858+0.0000j\n",
      "i(2) = 0.9236 / 42.0427\n",
      "e(2) = 85.3229 / 42.0427\n",
      "\n",
      "['734.3pF', '2.392uH']\n",
      "p(4) = 63.4000\n",
      "z(4) = 114.8265+0.0000j\n",
      "i(4) = 0.7431 / 15.1980\n",
      "e(4) = 85.3229 / 15.1980\n",
      "\n",
      "dr1 = 0.0000+0.0000j\n",
      "dr2 = 0.0000-0.0000j\n",
      "dr3 = 0.0000-0.0000j\n"
     ]
    }
   ],
   "source": [
    "# half pi\n",
    "z = impedance(line1)\n",
    "x = to_halfpi(line1_r, z)[0]\n",
    "print(component(x, 3.8e6))\n",
    "line1 = halfpi(*x) * line1\n",
    "status(line1, 1)\n",
    "\n",
    "z = impedance(line2)\n",
    "x = to_halfpi(line2_r, z)[1]\n",
    "print(component(x, 3.8e6))\n",
    "line2 = halfpi(*x) * line2\n",
    "status(line2, 2)\n",
    "\n",
    "z = impedance(line4)\n",
    "x = to_halfpi(line4_r, z)[1]\n",
    "print(component(x, 3.8e6))\n",
    "line4 = halfpi(*x) * line4\n",
    "status(line4, 4)\n",
    "\n",
    "print('dr1 = {:.4f}'.format(line1_r - impedance(line1)))\n",
    "print('dr2 = {:.4f}'.format(line2_r - impedance(line2)))\n",
    "print('dr3 = {:.4f}'.format(line4_r - impedance(line4)))"
   ]
  },
  {
   "cell_type": "code",
   "execution_count": 9,
   "metadata": {
    "scrolled": true
   },
   "outputs": [
    {
     "name": "stdout",
     "output_type": "stream",
     "text": [
      "lag21 = 65.5329\n",
      "lag21 = 1.0000 / 65.5329\n",
      "['12.59pF', '81.63uH', '12.59pF']\n",
      "p(2) = 3.4000\n",
      "z(2) = 2141.1765+0.0000j\n",
      "i(2) = 0.0398 / 42.0427\n",
      "e(2) = 85.3229 / 42.0427\n",
      "\n",
      "lag24 = 26.8448\n",
      "lag24 = 1.0000 / 26.8448\n",
      "['87.05pF', '2.172uH', '87.05pF']\n",
      "p(4) = 63.4000\n",
      "z(4) = 114.8265+0.0000j\n",
      "i(4) = 0.7431 / 42.0427\n",
      "e(4) = 85.3229 / 42.0427\n",
      "\n",
      "lag21 = 1.0000 / -0.0000\n",
      "lag24 = 1.0000 / 0.0000\n"
     ]
    }
   ],
   "source": [
    "# pi circuit\n",
    "print('lag21 = {:.4f}'.format(ephase(line2) - ephase(line1)))\n",
    "lag = complex(line2[0] / line1[0])\n",
    "print('lag21 =', polar(lag))\n",
    "x = to_fullpi(np.angle(lag, deg=True), line1_r)\n",
    "print(component(x, 3.8e6))\n",
    "line1 = fullpi(*x) * line1\n",
    "status(line1, 2)\n",
    "\n",
    "print('lag24 = {:.4f}'.format(ephase(line2) - ephase(line4)))\n",
    "lag = complex(line2[0] / line4[0])\n",
    "print('lag24 =', polar(lag))\n",
    "x = to_fullpi(np.angle(lag, deg=True), line4_r)\n",
    "print(component(x, 3.8e6))\n",
    "line4 = fullpi(*x) * line4\n",
    "status(line4, 4)\n",
    "\n",
    "print('lag21 =', polar(line2[0] / line1[0]))\n",
    "print('lag24 =', polar(line2[0] / line4[0]))"
   ]
  },
  {
   "cell_type": "code",
   "execution_count": 10,
   "metadata": {
    "scrolled": true
   },
   "outputs": [
    {
     "name": "stdout",
     "output_type": "stream",
     "text": [
      "e(1) = 85.3229 / 42.0427\n",
      "e(2) = 85.3229 / 42.0427\n",
      "e(4) = 85.3229 / 42.0427\n",
      "line1 z = 2141.1765+0.0000j\n",
      "line2 z = 92.3858+0.0000j\n",
      "line4 z = 114.8265+0.0000j\n",
      "in parallel = 50.0000+0.0000j\n"
     ]
    }
   ],
   "source": [
    "print('e(1) = {}'.format(polar(line1[0])))\n",
    "print('e(2) = {}'.format(polar(line2[0])))\n",
    "print('e(4) = {}'.format(polar(line4[0])))\n",
    "\n",
    "print('line1 z = {:.4f}'.format(impedance(line1)))\n",
    "print('line2 z = {:.4f}'.format(impedance(line2)))\n",
    "print('line4 z = {:.4f}'.format(impedance(line4)))\n",
    "print('in parallel = {:.4f}'.format(impedance(line1, line2, line4)))"
   ]
  },
  {
   "cell_type": "code",
   "execution_count": 11,
   "metadata": {},
   "outputs": [
    {
     "name": "stdout",
     "output_type": "stream",
     "text": [
      "feed power = 145.6000\n",
      "feed voltage = 85.3229\n",
      "p(0) = 145.6000\n",
      "z(0) = 50.0000+0.0000j\n",
      "i(0) = 1.7065 / 42.0427\n",
      "e(0) = 85.3229 / 42.0427\n",
      "\n"
     ]
    }
   ],
   "source": [
    "# put all lines in parallel\n",
    "print('feed power = %.4f' % total)\n",
    "print('feed voltage = %.4f' % feed_voltage)\n",
    "line = vec(line1[0], line1[1]+line2[1]+line4[1])\n",
    "status(line, 0)"
   ]
  }
 ],
 "metadata": {
  "kernelspec": {
   "display_name": "Python 3",
   "language": "python",
   "name": "python3"
  },
  "language_info": {
   "codemirror_mode": {
    "name": "ipython",
    "version": 3
   },
   "file_extension": ".py",
   "mimetype": "text/x-python",
   "name": "python",
   "nbconvert_exporter": "python",
   "pygments_lexer": "ipython3",
   "version": "3.5.3"
  }
 },
 "nbformat": 4,
 "nbformat_minor": 2
}
