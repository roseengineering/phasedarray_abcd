{
 "cells": [
  {
   "cell_type": "code",
   "execution_count": 1,
   "metadata": {},
   "outputs": [],
   "source": [
    "# from captain lee's book p72\n",
    "# the tank type divider (series) is hard to adjust according to NAB\n",
    "# use the ohms law divider (shunt) instead"
   ]
  },
  {
   "cell_type": "code",
   "execution_count": 2,
   "metadata": {},
   "outputs": [],
   "source": [
    "import numpy as np\n",
    "from abcd import *"
   ]
  },
  {
   "cell_type": "code",
   "execution_count": 3,
   "metadata": {},
   "outputs": [],
   "source": [
    "zo = 50\n",
    "fd = 3.9e6"
   ]
  },
  {
   "cell_type": "code",
   "execution_count": 4,
   "metadata": {
    "scrolled": true
   },
   "outputs": [
    {
     "name": "stdout",
     "output_type": "stream",
     "text": [
      "i =\n",
      " [[1]\n",
      " [1]]\n",
      "z =\n",
      " [[25.+14.j]\n",
      " [25.+14.j]]\n"
     ]
    }
   ],
   "source": [
    "z11 = z22 = 34 + 25j\n",
    "z12 = z21 = -9 - 11j\n",
    "\n",
    "i = np.matrix([1, 1]).T\n",
    "e = np.matrix([\n",
    "    [z11, z12],\n",
    "    [z21, z11]]) * i\n",
    "print('i =\\n', i)\n",
    "print('z =\\n', e / i)"
   ]
  },
  {
   "cell_type": "code",
   "execution_count": 5,
   "metadata": {},
   "outputs": [
    {
     "name": "stdout",
     "output_type": "stream",
     "text": [
      "p(1) = 25.0000\n",
      "z(1) = 25.0000+14.0000j\n",
      "i(1) = 1.0000 / 0.0000\n",
      "e(1) = 28.6531 / 29.2488\n",
      "\n",
      "p(2) = 25.0000\n",
      "z(2) = 25.0000+14.0000j\n",
      "i(2) = 1.0000 / 0.0000\n",
      "e(2) = 28.6531 / 29.2488\n",
      "\n"
     ]
    }
   ],
   "source": [
    "# at element\n",
    "line1 = vec(e[0], i[0])\n",
    "line2 = vec(e[1], i[1])\n",
    "status(line1, 1)\n",
    "status(line2, 2)"
   ]
  },
  {
   "cell_type": "code",
   "execution_count": 6,
   "metadata": {},
   "outputs": [
    {
     "name": "stdout",
     "output_type": "stream",
     "text": [
      "feed power = 50\n",
      "feed voltage = 50\n",
      "feed resistance = 50\n",
      "line1 R = 100.0000\n",
      "line2 R = 100.0000\n"
     ]
    }
   ],
   "source": [
    "feed_power = power(line1, line2)\n",
    "feed_resistance = 50\n",
    "feed_voltage = np.sqrt(feed_power * feed_resistance)\n",
    "print('feed power = %.5g' % feed_power)\n",
    "print('feed voltage = %.5g' % feed_voltage)\n",
    "print('feed resistance = %.5g' % feed_resistance)\n",
    "line1_r = feed_voltage**2 / power(line1)\n",
    "line2_r = feed_voltage**2 / power(line2)\n",
    "print('line1 R = %.4f' % line1_r)\n",
    "print('line2 R = %.4f' % line2_r)"
   ]
  },
  {
   "cell_type": "code",
   "execution_count": 7,
   "metadata": {},
   "outputs": [
    {
     "name": "stdout",
     "output_type": "stream",
     "text": [
      "p(0) = 25.0000\n",
      "z(0) = 25.0000-0.0000j\n",
      "i(0) = 1.0000 / 0.0000\n",
      "e(0) = 25.0000 / -0.0000\n",
      "\n",
      "p(0) = 25.0000\n",
      "z(0) = 25.0000-0.0000j\n",
      "i(0) = 1.0000 / 0.0000\n",
      "e(0) = 25.0000 / -0.0000\n",
      "\n"
     ]
    }
   ],
   "source": [
    "# cancel reactance\n",
    "z = impedance(line1)\n",
    "line1 = series(*to_series(z)) * line1\n",
    "status(line1)\n",
    "z = impedance(line2)\n",
    "line2 = series(*to_series(z)) * line2\n",
    "status(line2)"
   ]
  },
  {
   "cell_type": "code",
   "execution_count": 8,
   "metadata": {},
   "outputs": [
    {
     "name": "stdout",
     "output_type": "stream",
     "text": [
      "p(0) = 25.0000\n",
      "z(0) = 50.0000+0.0000j\n",
      "i(0) = 0.7071 / 90.0000\n",
      "e(0) = 35.3553 / 90.0000\n",
      "\n",
      "p(0) = 25.0000\n",
      "z(0) = 50.0000+0.0000j\n",
      "i(0) = 0.7071 / 90.0000\n",
      "e(0) = 35.3553 / 90.0000\n",
      "\n"
     ]
    }
   ],
   "source": [
    "# tee network\n",
    "z = impedance(line1) \n",
    "x = to_halfwave(z.real, zo)[0]\n",
    "line1 = fulltee(*x) * line1\n",
    "status(line1)\n",
    "\n",
    "z = impedance(line2) \n",
    "x = to_halfwave(z.real, zo)[0]\n",
    "line2 = fulltee(*x) * line2\n",
    "status(line2)"
   ]
  },
  {
   "cell_type": "code",
   "execution_count": 9,
   "metadata": {},
   "outputs": [
    {
     "name": "stdout",
     "output_type": "stream",
     "text": [
      "line1 Erms = 35.3553\n",
      "line2 Erms = 35.3553\n"
     ]
    }
   ],
   "source": [
    "print('line1 Erms = %.4f' % (erms(power(line1), impedance(line1))))\n",
    "print('line2 Erms = %.4f' % (erms(power(line2), impedance(line2))))"
   ]
  },
  {
   "cell_type": "code",
   "execution_count": 10,
   "metadata": {},
   "outputs": [
    {
     "name": "stdout",
     "output_type": "stream",
     "text": [
      "p(1) = 25.0000\n",
      "z(1) = 50.0000-0.0000j\n",
      "i(1) = 0.7071 / -159.0000\n",
      "e(1) = 35.3553 / -159.0000\n",
      "\n",
      "p(2) = 25.0000\n",
      "z(2) = 50.0000-0.0000j\n",
      "i(2) = 0.7071 / -159.0000\n",
      "e(2) = 35.3553 / -159.0000\n",
      "\n"
     ]
    }
   ],
   "source": [
    "# arbitrary length of transmission line\n",
    "line1 = tline(111) * line1\n",
    "line2 = tline(111) * line2\n",
    "status(line1, 1)\n",
    "status(line2, 2)"
   ]
  },
  {
   "cell_type": "code",
   "execution_count": 11,
   "metadata": {},
   "outputs": [
    {
     "name": "stdout",
     "output_type": "stream",
     "text": [
      "feed voltage = 50\n",
      "e(1) = 35.3553 / -159.0000\n",
      "e(2) = 35.3553 / -159.0000\n",
      "\n",
      "n1 = 0.7071067811865476\n",
      "p(1) = 25.0000\n",
      "z(1) = 100.0000-0.0000j\n",
      "i(1) = 0.5000 / -159.0000\n",
      "e(1) = 50.0000 / -159.0000\n",
      "\n",
      "n2 =  0.7071067811865476\n",
      "p(2) = 25.0000\n",
      "z(2) = 100.0000-0.0000j\n",
      "i(2) = 0.5000 / -159.0000\n",
      "e(2) = 50.0000 / -159.0000\n",
      "\n"
     ]
    }
   ],
   "source": [
    "# power divider\n",
    "print('feed voltage = %.5g' % feed_voltage)\n",
    "print('e(1) = {}'.format(polar(line1[0])))\n",
    "print('e(2) = {}'.format(polar(line2[0])))\n",
    "print()\n",
    "\n",
    "n1 = emag(line1) / feed_voltage\n",
    "print('n1 =', n1)\n",
    "line1 = trans(n1) * line1\n",
    "status(line1, 1)\n",
    "\n",
    "n2 = emag(line2) / feed_voltage\n",
    "print('n2 = ', n2)\n",
    "line2 = trans(n2) * line2\n",
    "status(line2, 2)"
   ]
  },
  {
   "cell_type": "code",
   "execution_count": 12,
   "metadata": {
    "scrolled": true
   },
   "outputs": [
    {
     "name": "stdout",
     "output_type": "stream",
     "text": [
      "e(1) = 50.0000 / -159.0000\n",
      "e(2) = 50.0000 / -159.0000\n",
      "\n",
      "line1 R = 100.0000\n",
      "line2 R = 100.0000\n",
      "Z line 1 = 100.0000-0.0000j\n",
      "Z line 2 = 100.0000-0.0000j\n",
      "in parallel z = 50.0000 / -0.0000\n",
      "feed resistance = 50\n"
     ]
    }
   ],
   "source": [
    "# ready to be combined\n",
    "print('e(1) = {}'.format(polar(line1[0])))\n",
    "print('e(2) = {}'.format(polar(line2[0])))\n",
    "print()\n",
    "print('line1 R = %.4f' % line1_r)\n",
    "print('line2 R = %.4f' % line2_r)\n",
    "print('Z line 1 = {:.4f}'.format(impedance(line1)))\n",
    "print('Z line 2 = {:.4f}'.format(impedance(line2)))\n",
    "print('in parallel z = {}'.format(polar(impedance(line1, line2))))\n",
    "print('feed resistance = %.4g' % feed_resistance)"
   ]
  },
  {
   "cell_type": "code",
   "execution_count": 13,
   "metadata": {
    "scrolled": false
   },
   "outputs": [
    {
     "name": "stdout",
     "output_type": "stream",
     "text": [
      "p(0) = 50.0000\n",
      "z(0) = 50.0000-0.0000j\n",
      "i(0) = 1.0000 / -159.0000\n",
      "e(0) = 50.0000 / -159.0000\n",
      "\n",
      "feed power = 50\n",
      "feed voltage = 50\n",
      "feed resistance = 50\n"
     ]
    }
   ],
   "source": [
    "# put all lines in parallel\n",
    "line = vec(line1[0], line1[1]+line2[1])\n",
    "status(line, 0)\n",
    "print('feed power = %.4g' % feed_power)\n",
    "print('feed voltage = %.4g' % feed_voltage)\n",
    "print('feed resistance = %.4g' % feed_resistance)"
   ]
  }
 ],
 "metadata": {
  "kernelspec": {
   "display_name": "Python 3",
   "language": "python",
   "name": "python3"
  },
  "language_info": {
   "codemirror_mode": {
    "name": "ipython",
    "version": 3
   },
   "file_extension": ".py",
   "mimetype": "text/x-python",
   "name": "python",
   "nbconvert_exporter": "python",
   "pygments_lexer": "ipython3",
   "version": "3.5.3"
  }
 },
 "nbformat": 4,
 "nbformat_minor": 2
}
